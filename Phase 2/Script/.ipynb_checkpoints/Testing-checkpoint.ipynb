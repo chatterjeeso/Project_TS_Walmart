{
 "cells": [
  {
   "cell_type": "code",
   "execution_count": 21,
   "metadata": {},
   "outputs": [],
   "source": [
    "import pandas as pd\n",
    "import numpy as np\n",
    "import matplotlib.pyplot as plt\n",
    "\n",
    "#Loading the train.csv data\n",
    "df_train = pd.read_csv(r\"C:\\Users\\chatterjeeso\\Desktop\\Project_TS_Walmart\\Phase 2\\Data\\train.csv\")\n",
    "\n",
    "#Checking how it appears\n",
    "#df_train.head()"
   ]
  },
  {
   "cell_type": "code",
   "execution_count": 22,
   "metadata": {},
   "outputs": [],
   "source": [
    "#df_train.info()"
   ]
  },
  {
   "cell_type": "code",
   "execution_count": 23,
   "metadata": {},
   "outputs": [
    {
     "data": {
      "text/plain": [
       "date         4498904\n",
       "store_nbr    4498904\n",
       "item_nbr     4498904\n",
       "units        4498904\n",
       "dtype: int64"
      ]
     },
     "execution_count": 23,
     "metadata": {},
     "output_type": "execute_result"
    }
   ],
   "source": [
    "df_train.count(axis = 1)\n",
    "df_train.isnull().sum()\n",
    "df_train[df_train['units'] == 0].count()"
   ]
  },
  {
   "cell_type": "code",
   "execution_count": 24,
   "metadata": {},
   "outputs": [
    {
     "data": {
      "text/plain": [
       "date         118696\n",
       "store_nbr    118696\n",
       "item_nbr     118696\n",
       "units        118696\n",
       "dtype: int64"
      ]
     },
     "execution_count": 24,
     "metadata": {},
     "output_type": "execute_result"
    }
   ],
   "source": [
    "df_train[df_train['units'] > 0].count()"
   ]
  },
  {
   "cell_type": "code",
   "execution_count": 25,
   "metadata": {},
   "outputs": [],
   "source": [
    "#Loading the data\n",
    "df_weather = pd.read_csv(r\"C:\\Users\\chatterjeeso\\Desktop\\Project_TS_Walmart\\Phase 2\\Data\\weather.csv\")\n",
    "\n",
    "#Checking how it appears\n",
    "#df_weather.head(10)\n",
    "\n",
    "#df_weather.info()"
   ]
  },
  {
   "cell_type": "code",
   "execution_count": 26,
   "metadata": {},
   "outputs": [],
   "source": [
    "chklist = list(df_weather.codesum.unique())\n",
    "df_weather1 = df_weather[~df_weather['codesum'].isin(['M','-',\" \"])]\n",
    "#df_weather1.info()"
   ]
  },
  {
   "cell_type": "code",
   "execution_count": null,
   "metadata": {},
   "outputs": [],
   "source": []
  },
  {
   "cell_type": "code",
   "execution_count": 27,
   "metadata": {},
   "outputs": [],
   "source": [
    "#df_weather[~df_weather.str.contains(\"M\")]\n",
    "#df_weather3 = df_weather[~df_weather['sunrise','sunset','codesum'].isin(['M','-',\" \"])]\n",
    "#df_weather3"
   ]
  },
  {
   "cell_type": "code",
   "execution_count": 29,
   "metadata": {},
   "outputs": [
    {
     "name": "stdout",
     "output_type": "stream",
     "text": [
      "['T', 'h', 'e', 'r', 'a', 'i', 'n', 'i', 'n', 'S', 'p', 'a', 'i', 'n']\n"
     ]
    }
   ],
   "source": [
    "import re\n",
    "\n",
    "txt = \"The rain in Spain 1 2 3 4\"\n",
    "\n",
    "#Find all lower case characters alphabetically between \"a\" and \"m\":\n",
    "\n",
    "x = re.findall(\"[a-z,A-Z,\" +\"]\", txt)\n",
    "print(x)"
   ]
  },
  {
   "cell_type": "code",
   "execution_count": null,
   "metadata": {},
   "outputs": [],
   "source": []
  }
 ],
 "metadata": {
  "kernelspec": {
   "display_name": "Python 3",
   "language": "python",
   "name": "python3"
  },
  "language_info": {
   "codemirror_mode": {
    "name": "ipython",
    "version": 3
   },
   "file_extension": ".py",
   "mimetype": "text/x-python",
   "name": "python",
   "nbconvert_exporter": "python",
   "pygments_lexer": "ipython3",
   "version": "3.8.5"
  }
 },
 "nbformat": 4,
 "nbformat_minor": 4
}
